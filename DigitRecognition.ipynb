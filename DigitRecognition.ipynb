{
 "cells": [
  {
   "cell_type": "markdown",
   "metadata": {},
   "source": [
    "# Kaggle Competition Digit Recognizer"
   ]
  },
  {
   "cell_type": "markdown",
   "metadata": {},
   "source": [
    "# All Imports"
   ]
  },
  {
   "cell_type": "code",
   "execution_count": 1,
   "metadata": {},
   "outputs": [
    {
     "name": "stderr",
     "output_type": "stream",
     "text": [
      "Using TensorFlow backend.\n"
     ]
    }
   ],
   "source": [
    "import tensorflow as tf\n",
    "import keras\n",
    "\n",
    "from keras import regularizers\n",
    "from keras.models import Sequential\n",
    "from keras.layers import Dense, Dropout, Activation, Flatten, Convolution2D, MaxPooling2D\n",
    "from keras.utils import to_categorical, np_utils\n",
    "\n",
    "from sklearn.metrics import confusion_matrix, accuracy_score\n",
    "from sklearn.model_selection import train_test_split\n",
    "from sklearn.preprocessing import StandardScaler\n",
    "from keras.callbacks import EarlyStopping\n",
    "\n",
    "import numpy as np\n",
    "import pandas as pd\n",
    "import matplotlib.pyplot as plt\n",
    "import seaborn as sns\n",
    "\n",
    "%matplotlib inline"
   ]
  },
  {
   "cell_type": "markdown",
   "metadata": {},
   "source": [
    "# Tensor Flow Model 1"
   ]
  },
  {
   "cell_type": "markdown",
   "metadata": {},
   "source": [
    "#### Load Train Dataset"
   ]
  },
  {
   "cell_type": "code",
   "execution_count": 2,
   "metadata": {
    "collapsed": true
   },
   "outputs": [],
   "source": [
    "df = pd.read_csv('./train.csv')"
   ]
  },
  {
   "cell_type": "code",
   "execution_count": 3,
   "metadata": {
    "collapsed": true
   },
   "outputs": [],
   "source": [
    "# Set X and Y\n",
    "y = pd.get_dummies(df['label'])\n",
    "X = df.drop('label', axis=1).values\n",
    "\n",
    "# Split X and Y into testing and training set\n",
    "X_train, X_test, y_train, y_test = train_test_split(X, y)\n",
    "\n",
    "# Scale X train and test down by dividing 255\n",
    "X_train = X_train/255\n",
    "X_test = X_test/255"
   ]
  },
  {
   "cell_type": "code",
   "execution_count": 4,
   "metadata": {},
   "outputs": [
    {
     "name": "stdout",
     "output_type": "stream",
     "text": [
      "WARNING:tensorflow:From /Users/jinpark/anaconda3/envs/tensorflow/lib/python3.6/site-packages/tensorflow/python/ops/losses/losses_impl.py:691: softmax_cross_entropy_with_logits (from tensorflow.python.ops.nn_ops) is deprecated and will be removed in a future version.\n",
      "Instructions for updating:\n",
      "\n",
      "Future major versions of TensorFlow will allow gradients to flow\n",
      "into the labels input on backprop by default.\n",
      "\n",
      "See tf.nn.softmax_cross_entropy_with_logits_v2.\n",
      "\n"
     ]
    }
   ],
   "source": [
    "# Instantiate and reset graph\n",
    "tf.reset_default_graph()\n",
    "\n",
    "# Create placeholder for X and Y (input layer)\n",
    "X = tf.placeholder(dtype=tf.float32,# specify the datatype\n",
    "                   shape=(None,\n",
    "                          X_train.shape[1]), \n",
    "                   name='X')\n",
    "y = tf.placeholder(dtype=tf.float32,\n",
    "                   shape=(None),\n",
    "                   name='y')\n",
    "\n",
    "# Hidden Layers\n",
    "hidden1 = tf.layers.dense(X,\n",
    "                          units=X_train.shape[1], # units = how many nodes\n",
    "                          name='hidden1',\n",
    "                          activation=tf.nn.relu) # Use relu for activation\n",
    "hidden2 = tf.layers.dense(hidden1,\n",
    "                          units=X_train.shape[1], # Second hidden layer\n",
    "                          name='hidden2',\n",
    "                          activation=tf.nn.relu)\n",
    "\n",
    "y_hat = tf.layers.dense(hidden1,\n",
    "                        units=y_train.shape[1],\n",
    "                        activation=None)\n",
    "\n",
    "loss = tf.losses.softmax_cross_entropy(y, y_hat) # loss function using softmax, Converts values into 0 and 1\n",
    "\n",
    "optimizer = tf.train.AdamOptimizer(learning_rate=0.01) # optimize model by using Adam with learning rate 0.01\n",
    "\n",
    "training_op = optimizer.minimize(loss) # Reduce error\n",
    "\n",
    "#saver = tf.train.Saver"
   ]
  },
  {
   "cell_type": "code",
   "execution_count": 5,
   "metadata": {},
   "outputs": [
    {
     "name": "stdout",
     "output_type": "stream",
     "text": [
      "Epoch: 1 1.0250586 1.046153\n",
      "Epoch: 11 0.40596274 0.40921506\n",
      "Epoch: 21 0.20474696 0.21951492\n",
      "Epoch: 31 0.14102401 0.16675265\n",
      "Epoch: 41 0.097090706 0.1305811\n"
     ]
    }
   ],
   "source": [
    "# Do this before fitting the model\n",
    "init = tf.global_variables_initializer()\n",
    "\n",
    "test_error = []\n",
    "train_error = []\n",
    "\n",
    "with tf.Session() as sess: # start fitting the model\n",
    "    init.run()\n",
    "    \n",
    "    for epoch in range(50):\n",
    "        sess.run(training_op,\n",
    "                 feed_dict={X:X_train, y:y_train}) # tensorflow way of passing x and y\n",
    "        \n",
    "        train_loss = sess.run(loss, feed_dict={X:X_train, y:y_train}) # Set train loss function\n",
    "        test_loss = sess.run(loss, feed_dict={X:X_test, y:y_test}) # Set test loss function\n",
    "        train_error.append(train_loss) # store the results into train_loss list\n",
    "        test_error.append(test_loss) # store the results into test_loss list\n",
    "        \n",
    "        if epoch % 10 == 0: \n",
    "            print(\"Epoch:\", epoch+1, train_loss, test_loss)\n",
    "            \n",
    "    pred = sess.run(y_hat, feed_dict={X:X_test})"
   ]
  },
  {
   "cell_type": "code",
   "execution_count": 6,
   "metadata": {},
   "outputs": [
    {
     "data": {
      "text/plain": [
       "array([8, 2, 6, ..., 7, 4, 5], dtype=int32)"
      ]
     },
     "execution_count": 6,
     "metadata": {},
     "output_type": "execute_result"
    }
   ],
   "source": [
    "class_preds = np.empty(pred.shape[0], dtype=np.int32)\n",
    "\n",
    "for i,clas in enumerate(map(np.argmax, pred)):\n",
    "    class_preds[i] = clas\n",
    "    \n",
    "class_preds"
   ]
  },
  {
   "cell_type": "code",
   "execution_count": 10,
   "metadata": {},
   "outputs": [
    {
     "data": {
      "text/plain": [
       "<matplotlib.legend.Legend at 0x1a1ffbb438>"
      ]
     },
     "execution_count": 10,
     "metadata": {},
     "output_type": "execute_result"
    },
    {
     "data": {
      "image/png": "[encoded data removed]",
      "text/plain": [
       "<matplotlib.figure.Figure at 0x1a1feebd68>"
      ]
     },
     "metadata": {},
     "output_type": "display_data"
    }
   ],
   "source": [
    "plt.plot(train_error, label='Train error')\n",
    "plt.plot(test_error, label='Test error')\n",
    "plt.legend()"
   ]
  },
  {
   "cell_type": "markdown",
   "metadata": {},
   "source": [
    "Based on this graph, it is ideal to stop the training at epoch 40 because thats where the error for train and test starts to create gaps in between."
   ]
  },
  {
   "cell_type": "markdown",
   "metadata": {},
   "source": [
    "# Keras Model 1"
   ]
  },
  {
   "cell_type": "code",
   "execution_count": 12,
   "metadata": {
    "collapsed": true
   },
   "outputs": [],
   "source": [
    "df = pd.read_csv('./train.csv')"
   ]
  },
  {
   "cell_type": "code",
   "execution_count": 13,
   "metadata": {
    "collapsed": true
   },
   "outputs": [],
   "source": [
    "y = df['label']\n",
    "X = df.drop('label', axis=1).values\n",
    "\n",
    "# Split X and Y into testing and training set\n",
    "X_train, X_test, y_train, y_test = train_test_split(X, y)\n",
    "\n",
    "# Scale X train and test down by dividing 255\n",
    "X_train = X_train/255\n",
    "X_test = X_test/255\n",
    "\n",
    "y_train = to_categorical(y_train)\n",
    "y_test = to_categorical(y_test)"
   ]
  },
  {
   "cell_type": "code",
   "execution_count": 14,
   "metadata": {
    "collapsed": true
   },
   "outputs": [],
   "source": [
    "model1 = Sequential()\n",
    "\n",
    "n_input = X_train.shape[1]\n",
    "n_hidden = n_input\n",
    "n_output = y_train.shape[1]\n",
    "\n",
    "# 1st hidden layer\n",
    "model1.add(Dense(n_hidden,\n",
    "                input_dim=n_input,\n",
    "                activation='relu',\n",
    "                kernel_regularizer=regularizers.l2(0.001)))\n",
    "# 2nd hidden layer\n",
    "model1.add(Dense(n_hidden,\n",
    "                activation='relu'))\n",
    "\n",
    "model1.add(Dense(n_output,\n",
    "                activation='softmax'))"
   ]
  },
  {
   "cell_type": "code",
   "execution_count": 15,
   "metadata": {
    "collapsed": true
   },
   "outputs": [],
   "source": [
    "model1.compile(loss='categorical_crossentropy',\n",
    "              optimizer='adam',\n",
    "              metrics=['accuracy'])"
   ]
  },
  {
   "cell_type": "code",
   "execution_count": 17,
   "metadata": {},
   "outputs": [
    {
     "name": "stdout",
     "output_type": "stream",
     "text": [
      "Train on 31500 samples, validate on 10500 samples\n",
      "Epoch 1/15\n",
      "31500/31500 [==============================] - 21s 682us/step - loss: 0.1437 - acc: 0.9780 - val_loss: 0.1939 - val_acc: 0.9624\n",
      "Epoch 2/15\n",
      "31500/31500 [==============================] - 22s 689us/step - loss: 0.1336 - acc: 0.9795 - val_loss: 0.1954 - val_acc: 0.9646\n",
      "Epoch 3/15\n",
      "31500/31500 [==============================] - 21s 681us/step - loss: 0.1298 - acc: 0.9805 - val_loss: 0.1679 - val_acc: 0.9735\n",
      "Epoch 4/15\n",
      "31500/31500 [==============================] - 21s 674us/step - loss: 0.1226 - acc: 0.9820 - val_loss: 0.1576 - val_acc: 0.9740\n",
      "Epoch 5/15\n",
      "31500/31500 [==============================] - 22s 684us/step - loss: 0.1165 - acc: 0.9830 - val_loss: 0.1904 - val_acc: 0.9656\n",
      "Epoch 6/15\n",
      "31500/31500 [==============================] - 21s 681us/step - loss: 0.1143 - acc: 0.9842 - val_loss: 0.1754 - val_acc: 0.9683\n",
      "Epoch 7/15\n",
      "31500/31500 [==============================] - 21s 666us/step - loss: 0.1100 - acc: 0.9844 - val_loss: 0.1678 - val_acc: 0.9705\n",
      "Epoch 8/15\n",
      "31500/31500 [==============================] - 21s 663us/step - loss: 0.1095 - acc: 0.9842 - val_loss: 0.1725 - val_acc: 0.9686\n",
      "Epoch 9/15\n",
      "31500/31500 [==============================] - 21s 671us/step - loss: 0.1065 - acc: 0.9853 - val_loss: 0.1662 - val_acc: 0.9725\n",
      "Epoch 10/15\n",
      "31500/31500 [==============================] - 21s 668us/step - loss: 0.1059 - acc: 0.9849 - val_loss: 0.1689 - val_acc: 0.9712\n",
      "Epoch 11/15\n",
      "31500/31500 [==============================] - 21s 679us/step - loss: 0.0985 - acc: 0.9871 - val_loss: 0.1451 - val_acc: 0.9771\n",
      "Epoch 12/15\n",
      "31500/31500 [==============================] - 21s 679us/step - loss: 0.0953 - acc: 0.9875 - val_loss: 0.1663 - val_acc: 0.9705\n",
      "Epoch 13/15\n",
      "31500/31500 [==============================] - 19s 599us/step - loss: 0.1053 - acc: 0.9845 - val_loss: 0.1573 - val_acc: 0.9730\n",
      "Epoch 14/15\n",
      "31500/31500 [==============================] - 19s 593us/step - loss: 0.0912 - acc: 0.9879 - val_loss: 0.1691 - val_acc: 0.9699\n",
      "Epoch 15/15\n",
      "31500/31500 [==============================] - 21s 664us/step - loss: 0.0965 - acc: 0.9860 - val_loss: 0.1422 - val_acc: 0.9774\n"
     ]
    }
   ],
   "source": [
    "history = model1.fit(X_train,\n",
    "                    y_train, \n",
    "                    validation_data=(X_test, y_test),\n",
    "                    epochs=15,\n",
    "                    batch_size=None,\n",
    "                    verbose=1)"
   ]
  },
  {
   "cell_type": "code",
   "execution_count": 18,
   "metadata": {
    "scrolled": true
   },
   "outputs": [
    {
     "data": {
      "text/plain": [
       "<matplotlib.legend.Legend at 0x1a313c2cc0>"
      ]
     },
     "execution_count": 18,
     "metadata": {},
     "output_type": "execute_result"
    },
    {
     "data": {
      "image/png": "[encoded data removed]",
      "text/plain": [
       "<matplotlib.figure.Figure at 0x1a3130d550>"
      ]
     },
     "metadata": {},
     "output_type": "display_data"
    }
   ],
   "source": [
    "train_loss = history.history['loss']\n",
    "test_loss = history.history['val_loss']\n",
    "plt.plot(train_loss, label='Training loss')\n",
    "plt.plot(test_loss, label='Testing loss')\n",
    "plt.legend()"
   ]
  },
  {
   "cell_type": "code",
   "execution_count": 19,
   "metadata": {},
   "outputs": [
    {
     "data": {
      "text/plain": [
       "[<matplotlib.lines.Line2D at 0x1a310f0fd0>]"
      ]
     },
     "execution_count": 19,
     "metadata": {},
     "output_type": "execute_result"
    },
    {
     "data": {
      "image/png": "[encoded data removed]",
      "text/plain": [
       "<matplotlib.figure.Figure at 0x1a3130d048>"
      ]
     },
     "metadata": {},
     "output_type": "display_data"
    }
   ],
   "source": [
    "plt.plot(history.history['acc'])"
   ]
  },
  {
   "cell_type": "code",
   "execution_count": 20,
   "metadata": {},
   "outputs": [
    {
     "data": {
      "text/plain": [
       "array([[5.2393854e-15, 2.6584791e-12, 3.2071311e-11, ..., 1.0000000e+00,\n",
       "        6.4967351e-15, 3.0351072e-11],\n",
       "       [1.7709424e-12, 3.3131458e-09, 3.1341216e-08, ..., 1.0000000e+00,\n",
       "        1.3845177e-11, 3.5328424e-10],\n",
       "       [4.8243605e-14, 3.5904609e-08, 8.6283271e-06, ..., 2.0367252e-06,\n",
       "        2.0283958e-08, 2.2767739e-07],\n",
       "       ...,\n",
       "       [4.1134567e-16, 4.7718390e-16, 2.3578843e-15, ..., 1.1592236e-15,\n",
       "        7.1273520e-10, 1.6387190e-08],\n",
       "       [1.1063966e-07, 7.5174976e-06, 6.0808745e-08, ..., 4.2709367e-08,\n",
       "        3.3711339e-03, 1.9609599e-01],\n",
       "       [5.3000736e-15, 7.7753633e-08, 2.0904676e-09, ..., 3.2105980e-09,\n",
       "        5.2228508e-08, 4.1957817e-12]], dtype=float32)"
      ]
     },
     "execution_count": 20,
     "metadata": {},
     "output_type": "execute_result"
    }
   ],
   "source": [
    "keras1_pred = model1.predict(np.array(X_test))\n",
    "keras1_pred"
   ]
  },
  {
   "cell_type": "markdown",
   "metadata": {},
   "source": [
    "# Keras Model 2 (Early Stop)"
   ]
  },
  {
   "cell_type": "code",
   "execution_count": 22,
   "metadata": {
    "collapsed": true
   },
   "outputs": [],
   "source": [
    "df = pd.read_csv('./train.csv')"
   ]
  },
  {
   "cell_type": "code",
   "execution_count": 23,
   "metadata": {
    "collapsed": true
   },
   "outputs": [],
   "source": [
    "y = df['label']\n",
    "X = df.drop('label', axis=1).values\n",
    "\n",
    "# Split X and Y into testing and training set\n",
    "X_train, X_test, y_train, y_test = train_test_split(X, y)\n",
    "\n",
    "# Scale X train and test down by dividing 255\n",
    "X_train = X_train/255\n",
    "X_test = X_test/255\n",
    "\n",
    "y_train = to_categorical(y_train)\n",
    "y_test = to_categorical(y_test)"
   ]
  },
  {
   "cell_type": "code",
   "execution_count": 25,
   "metadata": {},
   "outputs": [
    {
     "name": "stdout",
     "output_type": "stream",
     "text": [
      "Train on 31500 samples, validate on 10500 samples\n",
      "Epoch 1/15\n",
      "31500/31500 [==============================] - 18s 569us/step - loss: 0.2289 - val_loss: 0.1196\n",
      "Epoch 2/15\n",
      "31500/31500 [==============================] - 16s 511us/step - loss: 0.0938 - val_loss: 0.1068\n",
      "Epoch 3/15\n",
      "31500/31500 [==============================] - 17s 553us/step - loss: 0.0658 - val_loss: 0.1108\n",
      "Epoch 00003: early stopping\n"
     ]
    }
   ],
   "source": [
    "model2 = Sequential()\n",
    "\n",
    "n_input = X_train.shape[1]\n",
    "n_hidden = n_input\n",
    "n_output = y_train.shape[1]\n",
    "\n",
    "# 1st hidden layer\n",
    "model2.add(Dense(n_hidden,\n",
    "                input_dim=n_input,\n",
    "                activation='relu'))\n",
    "# 2nd hidden layer\n",
    "model2.add(Dense(n_hidden,\n",
    "                activation='relu'))\n",
    "# Output\n",
    "model2.add(Dense(n_output,\n",
    "                activation='softmax'))\n",
    "\n",
    "# Compile model\n",
    "model2.compile(loss='categorical_crossentropy',\n",
    "               optimizer='adam')\n",
    "# Early Stop\n",
    "early_stop = EarlyStopping(monitor='val_loss',\n",
    "                           min_delta=0,\n",
    "                           patience=0,\n",
    "                           verbose=1,\n",
    "                           mode='auto')\n",
    "\n",
    "callbacks_list = [early_stop]\n",
    "\n",
    "history2 = model2.fit(X_train, y_train, validation_data=(X_test, y_test), \n",
    "                        epochs=15, batch_size=None,\n",
    "                        callbacks = callbacks_list)"
   ]
  },
  {
   "cell_type": "code",
   "execution_count": 26,
   "metadata": {},
   "outputs": [
    {
     "data": {
      "text/plain": [
       "<matplotlib.legend.Legend at 0x1a23f2fd68>"
      ]
     },
     "execution_count": 26,
     "metadata": {},
     "output_type": "execute_result"
    },
    {
     "data": {
      "image/png": "[encoded data removed]",
      "text/plain": [
       "<matplotlib.figure.Figure at 0x1a210db588>"
      ]
     },
     "metadata": {},
     "output_type": "display_data"
    }
   ],
   "source": [
    "train_loss2 = history2.history['loss']\n",
    "test_loss2 = history2.history['val_loss']\n",
    "plt.plot(train_loss2, label='Training loss')\n",
    "plt.plot(test_loss2, label='Testing loss')\n",
    "plt.legend()"
   ]
  },
  {
   "cell_type": "code",
   "execution_count": 27,
   "metadata": {},
   "outputs": [
    {
     "data": {
      "text/plain": [
       "array([[9.9999976e-01, 1.1570298e-12, 2.4897631e-07, ..., 3.2829004e-09,\n",
       "        1.7574604e-10, 7.1712662e-09],\n",
       "       [1.8996749e-07, 6.2348386e-07, 1.0846249e-07, ..., 9.9962425e-01,\n",
       "        6.2890834e-08, 3.4828641e-04],\n",
       "       [9.3884438e-09, 1.7475098e-09, 2.3973810e-09, ..., 1.2135283e-08,\n",
       "        4.1270059e-06, 7.0259330e-06],\n",
       "       ...,\n",
       "       [7.3795405e-08, 1.6349744e-05, 6.4028841e-06, ..., 1.2054130e-07,\n",
       "        9.9994957e-01, 3.7084959e-07],\n",
       "       [7.0805717e-10, 1.0001022e-10, 3.4537535e-09, ..., 3.5458248e-05,\n",
       "        1.3971131e-08, 9.9995661e-01],\n",
       "       [1.3397176e-12, 2.0954902e-08, 6.5718679e-09, ..., 8.2195610e-09,\n",
       "        2.8822351e-09, 9.9010443e-08]], dtype=float32)"
      ]
     },
     "execution_count": 27,
     "metadata": {},
     "output_type": "execute_result"
    }
   ],
   "source": [
    "keras2_pred = model2.predict(np.array(X_test))\n",
    "keras2_pred"
   ]
  },
  {
   "cell_type": "markdown",
   "metadata": {},
   "source": [
    "# Convolutional Neural Net Using Keras"
   ]
  },
  {
   "cell_type": "code",
   "execution_count": 29,
   "metadata": {
    "collapsed": true
   },
   "outputs": [],
   "source": [
    "df = pd.read_csv('./train.csv')"
   ]
  },
  {
   "cell_type": "code",
   "execution_count": 30,
   "metadata": {
    "collapsed": true
   },
   "outputs": [],
   "source": [
    "y = df['label']\n",
    "X = df.drop('label', axis=1).values\n",
    "\n",
    "# Split X and Y into testing and training set\n",
    "X_train, X_test, y_train, y_test = train_test_split(X, y)\n",
    "\n",
    "# Scale X train and test down by dividing 255\n",
    "X_train = (X_train.reshape(X_train.shape[0], 28, 28, 1))/255\n",
    "X_test = (X_test.reshape(X_test.shape[0], 28, 28, 1))/255\n",
    "\n",
    "Y_train = np_utils.to_categorical(y_train, 10)\n",
    "Y_test = np_utils.to_categorical(y_test, 10)"
   ]
  },
  {
   "cell_type": "code",
   "execution_count": 31,
   "metadata": {
    "collapsed": true
   },
   "outputs": [],
   "source": [
    "cnn_model = Sequential()\n",
    "\n",
    "# Set 1st convolution layer\n",
    "cnn_model.add(Convolution2D(filters=6,\n",
    "                        kernel_size=3,\n",
    "                        activation='relu',\n",
    "                        input_shape=(28, 28, 1)))\n",
    "# Set 1st max pool to condense by f=2,s=2\n",
    "cnn_model.add(MaxPooling2D(pool_size=(2,2)))\n",
    "\n",
    "# Set 2nd convolution layer\n",
    "cnn_model.add(Convolution2D(filters=16, \n",
    "                        kernel_size=3,\n",
    "                        activation='relu'))\n",
    "# Set 2nd max pool f=2, s=2\n",
    "cnn_model.add(MaxPooling2D(pool_size=(2,2)))\n",
    "\n",
    "# Drop 25% of the nodes\n",
    "cnn_model.add(Dropout(0.25))\n",
    "\n",
    "# Flatten the model\n",
    "cnn_model.add(Flatten())"
   ]
  },
  {
   "cell_type": "code",
   "execution_count": 32,
   "metadata": {
    "collapsed": true
   },
   "outputs": [],
   "source": [
    "# Add layer using relu\n",
    "cnn_model.add(Dense(128,\n",
    "                activation='relu'))\n",
    "# Drop 25% of the nodes again\n",
    "cnn_model.add(Dropout(.25))\n",
    "\n",
    "# Final output layer usong softmax for multi categorical\n",
    "cnn_model.add(Dense(10,\n",
    "                activation='softmax'))"
   ]
  },
  {
   "cell_type": "code",
   "execution_count": 33,
   "metadata": {
    "collapsed": true
   },
   "outputs": [],
   "source": [
    "# Compile the model\n",
    "cnn_model.compile(loss='categorical_crossentropy',\n",
    "              optimizer='adam',\n",
    "              metrics=['accuracy'])"
   ]
  },
  {
   "cell_type": "code",
   "execution_count": 34,
   "metadata": {},
   "outputs": [
    {
     "name": "stdout",
     "output_type": "stream",
     "text": [
      "Epoch 1/10\n",
      "31500/31500 [==============================] - 8s 241us/step - loss: 0.4020 - acc: 0.8737\n",
      "Epoch 2/10\n",
      "31500/31500 [==============================] - 7s 238us/step - loss: 0.1489 - acc: 0.9532\n",
      "Epoch 3/10\n",
      "31500/31500 [==============================] - 8s 248us/step - loss: 0.1129 - acc: 0.9645\n",
      "Epoch 4/10\n",
      "31500/31500 [==============================] - 7s 224us/step - loss: 0.0911 - acc: 0.9713\n",
      "Epoch 5/10\n",
      "31500/31500 [==============================] - 7s 226us/step - loss: 0.0809 - acc: 0.9746\n",
      "Epoch 6/10\n",
      "31500/31500 [==============================] - 7s 226us/step - loss: 0.0732 - acc: 0.9771\n",
      "Epoch 7/10\n",
      "31500/31500 [==============================] - 7s 224us/step - loss: 0.0644 - acc: 0.9790\n",
      "Epoch 8/10\n",
      "31500/31500 [==============================] - 7s 228us/step - loss: 0.0597 - acc: 0.9798\n",
      "Epoch 9/10\n",
      "31500/31500 [==============================] - 7s 236us/step - loss: 0.0570 - acc: 0.9816\n",
      "Epoch 10/10\n",
      "31500/31500 [==============================] - 7s 223us/step - loss: 0.0512 - acc: 0.9820\n"
     ]
    },
    {
     "data": {
      "text/plain": [
       "<keras.callbacks.History at 0x1a23f8c908>"
      ]
     },
     "execution_count": 34,
     "metadata": {},
     "output_type": "execute_result"
    }
   ],
   "source": [
    "# Fit model on training data\n",
    "cnn_model.fit(X_train,\n",
    "          Y_train,\n",
    "          batch_size=32,\n",
    "          epochs=10,\n",
    "          verbose=1)"
   ]
  },
  {
   "cell_type": "code",
   "execution_count": 35,
   "metadata": {},
   "outputs": [
    {
     "name": "stdout",
     "output_type": "stream",
     "text": [
      "loss: 0.03531139344584552\n",
      "acc: 0.9896190476190476\n"
     ]
    }
   ],
   "source": [
    "# Evaluate model on test data\n",
    "score = cnn_model.evaluate(X_test, Y_test, verbose=0)\n",
    "labels = cnn_model.metrics_names\n",
    "\n",
    "print(str(labels[0]) + \": \" + str(score[0]))\n",
    "print(str(labels[1]) + \": \" + str(score[1]))"
   ]
  },
  {
   "cell_type": "code",
   "execution_count": 40,
   "metadata": {},
   "outputs": [
    {
     "data": {
      "text/plain": [
       "array([[2.2342290e-06, 9.9963534e-01, 1.7090346e-05, ..., 4.4861659e-05,\n",
       "        2.3835291e-04, 4.5226709e-05],\n",
       "       [1.0805488e-09, 2.5120887e-08, 1.0686314e-05, ..., 9.9998558e-01,\n",
       "        1.5445843e-10, 2.5453512e-06],\n",
       "       [2.0102323e-14, 2.4120823e-09, 7.0101237e-11, ..., 1.5747295e-09,\n",
       "        3.9299275e-09, 1.6577162e-07],\n",
       "       ...,\n",
       "       [2.3513588e-10, 2.3001276e-08, 1.0294143e-05, ..., 5.1023885e-10,\n",
       "        9.9998939e-01, 9.1743381e-08],\n",
       "       [3.3239933e-10, 2.5841274e-09, 3.5539870e-08, ..., 3.7649963e-07,\n",
       "        1.5410493e-06, 9.9915171e-01],\n",
       "       [9.1890210e-16, 6.0913674e-09, 2.1307676e-09, ..., 6.6644523e-11,\n",
       "        4.7134202e-10, 1.1861356e-10]], dtype=float32)"
      ]
     },
     "execution_count": 40,
     "metadata": {},
     "output_type": "execute_result"
    }
   ],
   "source": [
    "cnn_pred = cnn_model.predict(np.array(X_test))\n",
    "cnn_pred"
   ]
  },
  {
   "cell_type": "markdown",
   "metadata": {},
   "source": [
    "# Prediction Using Test.CSV"
   ]
  },
  {
   "cell_type": "code",
   "execution_count": 41,
   "metadata": {
    "collapsed": true
   },
   "outputs": [],
   "source": [
    "test = pd.read_csv('./test.csv')"
   ]
  },
  {
   "cell_type": "code",
   "execution_count": 42,
   "metadata": {
    "collapsed": true
   },
   "outputs": [],
   "source": [
    "test = test.values"
   ]
  },
  {
   "cell_type": "code",
   "execution_count": 43,
   "metadata": {
    "collapsed": true
   },
   "outputs": [],
   "source": [
    "test = test.reshape(test.shape[0], 28, 28, 1)"
   ]
  },
  {
   "cell_type": "code",
   "execution_count": 46,
   "metadata": {},
   "outputs": [
    {
     "data": {
      "text/plain": [
       "array([[0., 0., 1., ..., 0., 0., 0.],\n",
       "       [1., 0., 0., ..., 0., 0., 0.],\n",
       "       [0., 0., 0., ..., 0., 1., 0.],\n",
       "       ...,\n",
       "       [0., 0., 0., ..., 0., 0., 0.],\n",
       "       [0., 0., 0., ..., 0., 0., 1.],\n",
       "       [0., 0., 1., ..., 0., 0., 0.]], dtype=float32)"
      ]
     },
     "execution_count": 46,
     "metadata": {},
     "output_type": "execute_result"
    }
   ],
   "source": [
    "real_pred = cnn_model.predict(np.array(test))\n",
    "real_pred"
   ]
  },
  {
   "cell_type": "code",
   "execution_count": 48,
   "metadata": {},
   "outputs": [
    {
     "data": {
      "text/plain": [
       "array([0., 0., 1., 0., 0., 0., 0., 0., 0., 0.], dtype=float32)"
      ]
     },
     "execution_count": 48,
     "metadata": {},
     "output_type": "execute_result"
    }
   ],
   "source": [
    "real_pred[0]"
   ]
  },
  {
   "cell_type": "code",
   "execution_count": 50,
   "metadata": {
    "collapsed": true
   },
   "outputs": [],
   "source": [
    "real_pred_list = []\n",
    "for each in real_pred:\n",
    "    real_pred_list.append(np.argmax(each))"
   ]
  },
  {
   "cell_type": "code",
   "execution_count": 55,
   "metadata": {
    "collapsed": true
   },
   "outputs": [],
   "source": [
    "real_prediction = pd.DataFrame(real_pred_list, columns=[\"label\"])\n",
    "real_prediction.index +=1\n",
    "real_prediction.index.rename(\"ImageID\", inplace=True)"
   ]
  },
  {
   "cell_type": "code",
   "execution_count": 56,
   "metadata": {},
   "outputs": [
    {
     "data": {
      "text/html": [
       "<div>\n",
       "<style scoped>\n",
       "    .dataframe tbody tr th:only-of-type {\n",
       "        vertical-align: middle;\n",
       "    }\n",
       "\n",
       "    .dataframe tbody tr th {\n",
       "        vertical-align: top;\n",
       "    }\n",
       "\n",
       "    .dataframe thead th {\n",
       "        text-align: right;\n",
       "    }\n",
       "</style>\n",
       "<table border=\"1\" class=\"dataframe\">\n",
       "  <thead>\n",
       "    <tr style=\"text-align: right;\">\n",
       "      <th></th>\n",
       "      <th>label</th>\n",
       "    </tr>\n",
       "    <tr>\n",
       "      <th>ImageID</th>\n",
       "      <th></th>\n",
       "    </tr>\n",
       "  </thead>\n",
       "  <tbody>\n",
       "    <tr>\n",
       "      <th>1</th>\n",
       "      <td>2</td>\n",
       "    </tr>\n",
       "    <tr>\n",
       "      <th>2</th>\n",
       "      <td>0</td>\n",
       "    </tr>\n",
       "    <tr>\n",
       "      <th>3</th>\n",
       "      <td>8</td>\n",
       "    </tr>\n",
       "    <tr>\n",
       "      <th>4</th>\n",
       "      <td>9</td>\n",
       "    </tr>\n",
       "    <tr>\n",
       "      <th>5</th>\n",
       "      <td>3</td>\n",
       "    </tr>\n",
       "  </tbody>\n",
       "</table>\n",
       "</div>"
      ],
      "text/plain": [
       "         label\n",
       "ImageID       \n",
       "1            2\n",
       "2            0\n",
       "3            8\n",
       "4            9\n",
       "5            3"
      ]
     },
     "execution_count": 56,
     "metadata": {},
     "output_type": "execute_result"
    }
   ],
   "source": [
    "real_prediction.head()"
   ]
  },
  {
   "cell_type": "code",
   "execution_count": 57,
   "metadata": {
    "collapsed": true
   },
   "outputs": [],
   "source": [
    "real_prediction.to_csv(\"kaggle_cnn.csv\")"
   ]
  }
 ],
 "metadata": {
  "kernelspec": {
   "display_name": "Python 3",
   "language": "python",
   "name": "python3"
  },
  "language_info": {
   "codemirror_mode": {
    "name": "ipython",
    "version": 3
   },
   "file_extension": ".py",
   "mimetype": "text/x-python",
   "name": "python",
   "nbconvert_exporter": "python",
   "pygments_lexer": "ipython3",
   "version": "3.6.3"
  }
 },
 "nbformat": 4,
 "nbformat_minor": 2
}
